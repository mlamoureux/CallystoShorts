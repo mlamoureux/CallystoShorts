{
 "cells": [
  {
   "cell_type": "markdown",
   "metadata": {},
   "source": [
    "![alt text](https://github.com/callysto/callysto-sample-notebooks/blob/master/notebooks/images/Callysto_Notebook-Banner_Top_06.06.18.jpg?raw=true)"
   ]
  },
  {
   "cell_type": "markdown",
   "metadata": {},
   "source": [
    "# Starting Callysto"
   ]
  },
  {
   "cell_type": "markdown",
   "metadata": {},
   "source": [
    "This workbook is a brief introduction to using the Callysto hub, an online resouce where you can create and use Jupyter notebooks. It is one in a series of workbooks from the **Callysto** project, [Callysto.ca](https://callysto.ca)."
   ]
  },
  {
   "cell_type": "markdown",
   "metadata": {},
   "source": [
    "## Don't Panic!\n",
    "\n",
    "You can't do anything *bad* or *destructive* while programming here. Can't accidentally erase your hard disk, can't mess up someone else's copy of these notes, and even if you mess up your own copy of this, chances are you can easily fix it.\n",
    "\n",
    "For some reason, many people worry they might make a big mistake when using online toos. Chances are, you won't mess things up irreparably. \n",
    "\n",
    "So, **Don't Panic!**"
   ]
  },
  {
   "cell_type": "markdown",
   "metadata": {},
   "source": [
    "## Browsers\n",
    "\n",
    "You should run this document in a modern browser like FireFox, Chrome, Opera, or Safari. \n",
    "\n",
    "Unfortunately, Microsoft Explorer and Edge are not really compatible with Jupyter, so it is best to avoid it. If you are using MS Explorer/Edge, you can try and hope for the best. But if you can, switch to FireFox, Chrome, Safari or Opera."
   ]
  },
  {
   "cell_type": "markdown",
   "metadata": {},
   "source": [
    "## The Jupyter notebook\n",
    "This document you are looking at is called a Jupyter notebook.\n",
    "\n",
    "It is made up of a collection of cells, or boxes, that contain either text (to read) or code (to run with the computer). This sentence, for instance, is in a text box. You will write your computer code in a cell, then run the cell. You may also write text in a cell, and format it to look nice.\n",
    "\n",
    "Click on a piece of text, and Jupyter will highlight the cell it sits in. Try it!"
   ]
  },
  {
   "cell_type": "markdown",
   "metadata": {},
   "source": [
    "## The Callysto Hub\n",
    "\n",
    "The Hub is an online site where you sign in to an account, and then create your notebooks and other document. Open a new browser tab and go to the Callysto website [https://hub.callysto.ca](https://hub.callysto.ca)\n",
    "\n",
    "The sign-on page looks like this:\n",
    "![Sign In Page](images/CallystoSignIn.png)\n",
    "\n",
    "Click on the little house to choose your sign-in method. The page will look like this:\n",
    "![Sign In Choices](images/CallystoSignIn2.png)\n",
    "\n",
    "You will need an existing Google or Microsoft accoutn to use the last two options. I will sign in with Google. Once you enter your name and password, you will get to the Callysto Hub, which looks like this:\n",
    "\n",
    "![Callysto Hub FrontPage](images/CallystoFirstPage.png)\n",
    "\n",
    "Notice the tab at the top is called **Home.** Keep this in mind, as you will often need to return to this home page. \n",
    "\n",
    "On this page are several menu items. On the left, we see **Files/Running/Clusters.** Clicking on **Files** will show you a list of files stored on this server. Clicking on **Running** will show you which files are currently active and running. Don't worry about **Clusters.**\n",
    "\n",
    "On the right, you see buttons for **Logout, Control Panel, Upload,** and **New.**\n",
    "\n",
    "Click on **New** and select the item **Python 3.** This creates a new document and opens it for you, where you can do your programming. \n",
    "\n",
    "If you go back to the **Home** tab, you will see in the list of files that you have a new file now, called **Untitled.ipynb** There is also another file present, called **getting-started.ipynb** The suffix **.ipynb** stands for **interactive python notebook.**\n",
    "\n",
    "This **Home** is the Hub, or Jupyter Hub, where you can create and delete files, make copies of them, upload and download files between this website and your own computer. Think of it as like the File Explorer in Windows, or the Finder in Mac OS. \n",
    "\n",
    "Clicking on one of the files in the list, will open a tab in your browser with the contents of the file. If the file is a Jupyter notebook, it opens as such, where you can edit and write code.\n",
    "\n"
   ]
  },
  {
   "cell_type": "markdown",
   "metadata": {},
   "source": [
    "### Exercise\n",
    "\n",
    "While in the Hub (the **Home** page), see if you can rename the Untitled.ipynb to something else. Like MyFirstNotebook.ipynb\n",
    "\n",
    "See if you can find out how to duplicate this new file, and give the copy a new name.\n",
    "\n",
    "See if you can a file from your own computer into the hub. Try a simple text file, or a picture. \n"
   ]
  },
  {
   "cell_type": "markdown",
   "metadata": {},
   "source": [
    "## Getting started\n",
    "\n",
    "While on the **Home** page (the Hub), click on the file **getting-started.ipynb** This will open in a new tab, and you have a tutorial on how to get started with Jupyter notebooks. \n",
    "\n",
    "Try it out! There are many sample notebooks and exercises to help you learn.\n"
   ]
  },
  {
   "cell_type": "markdown",
   "metadata": {},
   "source": [
    "## Use Callysto resources\n",
    "\n",
    "The Callysto project has created a library of useful notebooks that can be used as curriculum modules in class, as is, or as the starting point for making new notebooks. \n",
    "\n",
    "Now that you have a Callysto account, you can go to the Callysto website and click on the \"interactive links\" to get access to your own copies of these notebooks.\n",
    "\n",
    "Go here for the list of notebooks available: [https://callysto.ca/learning_modules/](https://callysto.ca/learning_modules/)"
   ]
  },
  {
   "cell_type": "markdown",
   "metadata": {},
   "source": [
    "## Going further with Callysto and Jupyter\n",
    "\n",
    "There are many online resources for Jupyter. \n",
    "\n",
    "An online eBook created by the Callysto partners is here [https://intro.syzygy.ca](https://intro.syzygy.ca)\n",
    "\n",
    "A definitive guide is here [https://www.datacamp.com/community/tutorials/tutorial-jupyter-notebook](https://www.datacamp.com/community/tutorials/tutorial-jupyter-notebook)\n",
    "\n",
    "Finally, learn more about the Jupyter notebooks available as learning modules from Callyso: [Callysto.ca](https://callysto.ca/learning_modules/)"
   ]
  },
  {
   "cell_type": "markdown",
   "metadata": {},
   "source": [
    "![alt text](https://github.com/callysto/callysto-sample-notebooks/blob/master/notebooks/images/Callysto_Notebook-Banners_Bottom_06.06.18.jpg?raw=true)"
   ]
  }
 ],
 "metadata": {
  "kernelspec": {
   "display_name": "Python 3",
   "language": "python",
   "name": "python3"
  },
  "language_info": {
   "codemirror_mode": {
    "name": "ipython",
    "version": 3
   },
   "file_extension": ".py",
   "mimetype": "text/x-python",
   "name": "python",
   "nbconvert_exporter": "python",
   "pygments_lexer": "ipython3",
   "version": "3.7.2"
  }
 },
 "nbformat": 4,
 "nbformat_minor": 2
}
