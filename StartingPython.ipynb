{
 "cells": [
  {
   "cell_type": "markdown",
   "metadata": {},
   "source": [
    "![alt text](https://github.com/callysto/callysto-sample-notebooks/blob/master/notebooks/images/Callysto_Notebook-Banner_Top_06.06.18.jpg?raw=true)"
   ]
  },
  {
   "cell_type": "markdown",
   "metadata": {},
   "source": [
    "# Starting Python"
   ]
  },
  {
   "cell_type": "markdown",
   "metadata": {},
   "source": [
    "This workbook is a brief introduction to programming, using the Python language in a Jupyter notebook. It is one in a series of workbooks from the **Callysto** project."
   ]
  },
  {
   "cell_type": "markdown",
   "metadata": {},
   "source": [
    "## Don't Panic!\n",
    "\n",
    "You can't do anything *bad* or *destructive* while programming here. Can't accidentally erase your hard disk, can't mess up someone else's copy of these notes, and even if you mess up your own copy of this, you can reload it by going back in your browser history.\n",
    "\n",
    "For some reason, many people worry they might make a big mistake when programming and mess things up permanently. Here, you can't.\n",
    "\n",
    "So, **Don't Panic!**"
   ]
  },
  {
   "cell_type": "markdown",
   "metadata": {},
   "source": [
    "## The Jupyter notebook\n",
    "This document you are looking at is called a Jupyter notebook.\n",
    "\n",
    "It is made up of a collection of cells, or boxes, that contain either text (to read) or code (to run with the computer). This sentence, for instance, is in a text box. You will write your computer code in a cell, then run the cell. You may also write text in a cell, and format it to look nice.\n",
    "\n",
    "Click on a piece of text, and Jupyter will highlight the cell it sits in. Try it!"
   ]
  },
  {
   "cell_type": "markdown",
   "metadata": {},
   "source": [
    "## The notebook menu\n",
    "At the top of the notebook is a menu, with familiar commands like *File, Edit, View...*. It looks like this:\n",
    "![menu](images/JupMenu.png)\n",
    "\n",
    "A key menu item is the one marked **Markdown.** This toggles the cell from Code to Markdown (text). When you are writing a piece of code, be sure the cell is set to \"Code\" mode. If you are just writing text, select the \"Markdown\" mode. If a cell looks really odd, chances are it is in the wrong mode, so switch it from Code to Markdown, or vice versa.\n",
    "\n",
    "The **File, Edit, View** menu items do the usual things you expect. **Insert** will create a new cell for you, while the icons below (plus sign, scissors, copy file icon) are shortcuts to create, delete, copy and paste individual cells in the document. \n",
    "\n",
    "The button marked **Run** is important. Use it to run code in a Code cell.\n",
    "\n",
    "**Run** is also used to format text in a Markdown cell. \n",
    "\n",
    "(You can use the keyboard shortcut **Shift+Return** to do **Run** for both code and text.)"
   ]
  },
  {
   "cell_type": "markdown",
   "metadata": {},
   "source": [
    "### Exercise\n",
    "\n",
    "Click on this text to select the cell. Double click and it become unformatted text. To format it, click on the **Run** button.\n",
    "\n",
    "If you are feeling lucky (punk), try making a copy of this cell and paste it below. "
   ]
  },
  {
   "cell_type": "markdown",
   "metadata": {},
   "source": [
    "## The Python language\n",
    "\n",
    "Python is a programming language, widely used around the world. It is a general purpose language, which means it can be used for a wide variety of applications. \n",
    "\n",
    "If you have never programmed before, keep in mind there are two key \"things\" the computer needs to work with: **Data** and **Operations.** For instance, your age (say 30 years) is a piece of data. To operate on this data, you might want to print it, or add one to it, or send it in an email, or takes its average with many other people's ages.\n",
    "\n",
    "Data and operations are often organized into **data structures** (like a list of ages) and **algorithms** (like a formula to compute an average in a list of ages). \n",
    "\n",
    "If you can keep these two concepts clear when programming, you will make great progress.\n",
    "\n",
    "Python has a particular **syntax** or a precise way of writing things down. Like the English language, it is important to know where to put a period, comma, semicolon, etc, in a long expression. Python is even more picky than English: For instance, spaces at the start of a line can mean something, so you have to get the spacing correct. Different brackets \"(, [, { ... }, ], )\" mean different things. If you get it wrong, Python will give you an error message to help you figure out what went wrong.\n",
    "\n",
    "We will keep to simple commands in this tutorial, so the syntax should not be too mysterious. "
   ]
  },
  {
   "cell_type": "markdown",
   "metadata": {},
   "source": [
    "## Your first Python program\n",
    "In the following cell is the Python command \"print('Hello, world.)\"\n",
    "\n",
    "Select the cell below, and run it using the **Run** menu item above. \n",
    "\n",
    "You should see the words *Hello, world.* printed in the output cell."
   ]
  },
  {
   "cell_type": "code",
   "execution_count": null,
   "metadata": {},
   "outputs": [],
   "source": [
    "print('Hello, world.')"
   ]
  },
  {
   "cell_type": "markdown",
   "metadata": {},
   "source": [
    "### Exercise\n",
    "- see if you can run the cell above using  **Shift+Return** on the keyboard.\n",
    "- see if you can change the message from *Hello, world.* to *\"How you doing?\"*  The quotation marks in the code are important!\n",
    "- what is the **data** in the code above? What is the **operation**?"
   ]
  },
  {
   "cell_type": "markdown",
   "metadata": {},
   "source": [
    "## Your second Python program\n",
    "\n",
    "You can print numbers as well, and a mix of numbers and text. Run the following cells using the **Run** menu item."
   ]
  },
  {
   "cell_type": "code",
   "execution_count": null,
   "metadata": {},
   "outputs": [],
   "source": [
    "print(1,2,3,4,5)"
   ]
  },
  {
   "cell_type": "code",
   "execution_count": null,
   "metadata": {},
   "outputs": [],
   "source": [
    "print(1,2,'buckle my shoe',3,4,'shut the door')"
   ]
  },
  {
   "cell_type": "markdown",
   "metadata": {},
   "source": [
    "In the examples above, the numbers 1,2,3,4,5 are data (in this case, integers) and the text like 'Hello, world.' is also data (in this case, a string, or string of characters). This data can be stored in a data structure, or variable, using a name you give to the variable.\n",
    "\n",
    "You can then use the print operation to print out these data values. Run the following code, again using the **Run** button.\n"
   ]
  },
  {
   "cell_type": "code",
   "execution_count": null,
   "metadata": {},
   "outputs": [],
   "source": [
    "aNumber = 1\n",
    "aString = 'Hello, world.'\n",
    "print(aNumber,aString)"
   ]
  },
  {
   "cell_type": "markdown",
   "metadata": {},
   "source": [
    "### Exercise\n",
    "- make up your own names for the variables, and try the code again.\n",
    "- put different values in the variables, see what happens."
   ]
  },
  {
   "cell_type": "markdown",
   "metadata": {},
   "source": [
    "## Loops and iteration\n",
    "\n",
    "Suppose we want to print the numbers 1 to 100. We could try writing out \"print(1,2,3,4,5,....\" but that would take too long to type. Instead, we use a loop.\n",
    "\n",
    "A **For** loop is the simplest loop we can use. We name a variable (say, k) and run it through a range of values. At each value, we print out the result. The **syntax** for the for loop looks like this:"
   ]
  },
  {
   "cell_type": "code",
   "execution_count": null,
   "metadata": {},
   "outputs": [],
   "source": [
    "for k in range(100):\n",
    "    print(k)"
   ]
  },
  {
   "cell_type": "markdown",
   "metadata": {},
   "source": [
    "Select the above code cell and click on **Run** to see this work.\n",
    "\n",
    "Notice the colon ':' at the end of the first line in the **For** statement. This is part of the required **syntax.** Also notice the print statement is indented -- this tells the computer that this line is part of the loop. \n",
    "\n",
    "You might also notice the list of numbers started with 0 and ended with 99. This is something funny about the operation \"range\". It starts its list with zero, and ends will one less than the argument (99 = one less than 100).\n",
    "\n",
    "Let's print the first 10 numbers and their squares:"
   ]
  },
  {
   "cell_type": "code",
   "execution_count": null,
   "metadata": {},
   "outputs": [],
   "source": [
    "for k in range(10):\n",
    "    print(k,k**2)"
   ]
  },
  {
   "cell_type": "markdown",
   "metadata": {},
   "source": [
    "## Doing more with Python\n",
    "\n",
    "Basic Python can do a lot, but where it really shines is when you use packages of other people's code to get things done. To get you started, let's load in two packages:\n",
    "- numpy, or Numerical Python (for doing math)\n",
    "- matplotlib, or Mathematical Plotting Library (for making nice plots).\n",
    "\n",
    "Run the following cell with the **Run** menu item.\n"
   ]
  },
  {
   "cell_type": "code",
   "execution_count": null,
   "metadata": {},
   "outputs": [],
   "source": [
    "from numpy import *\n",
    "from matplotlib.pyplot import *"
   ]
  },
  {
   "cell_type": "markdown",
   "metadata": {},
   "source": [
    "Let's check that these packages work, by running the following plot operation. "
   ]
  },
  {
   "cell_type": "code",
   "execution_count": null,
   "metadata": {},
   "outputs": [],
   "source": [
    "plot([1,2,3])"
   ]
  },
  {
   "cell_type": "markdown",
   "metadata": {},
   "source": [
    "You should see a graph with a diagonal line in it. (If you don't try running the cells again.)"
   ]
  },
  {
   "cell_type": "markdown",
   "metadata": {},
   "source": [
    "## Plotting commands\n",
    "\n",
    "There is lots to learn about plotting, and you might like to read the online documentation about everything that Matplotlib can do. Google it! (e.g. matplotlib in Python)\n",
    "\n",
    "As a simple start, think of the plot command as something to make 2D plots of x,y values. \n",
    "\n",
    "If you put in a simple list, like plot( [1,2,3] ), it will use 1,2,3 as the y values (vertical values) and index the x values from 0 to whatever the length of the y list was.\n",
    "\n",
    "If you put in two lists, plot( [1,2,3], [4,5,6] ) it will use the first list as the x values, and the second list as the y values. \n",
    "\n",
    "You can switch between line plots and markers using optional arguments like '-' or 'o'.\n",
    "\n",
    "And of course, the lists [1,2,3], [4,5,6] can be replaced by a data structure, like a list of values.\n",
    "\n",
    "Play around with some of the examples below:\n"
   ]
  },
  {
   "cell_type": "code",
   "execution_count": null,
   "metadata": {},
   "outputs": [],
   "source": [
    "plot([1,2,3]);"
   ]
  },
  {
   "cell_type": "code",
   "execution_count": null,
   "metadata": {},
   "outputs": [],
   "source": [
    "plot([1,2,3],[4,5,6]);"
   ]
  },
  {
   "cell_type": "code",
   "execution_count": null,
   "metadata": {},
   "outputs": [],
   "source": [
    "plot([1,2,3],[4,5,6],'o');"
   ]
  },
  {
   "cell_type": "code",
   "execution_count": null,
   "metadata": {},
   "outputs": [],
   "source": [
    "x = array([-3,-2,-1,0,1,2,3])\n",
    "y = x**2\n",
    "plot(x,y);"
   ]
  },
  {
   "cell_type": "markdown",
   "metadata": {},
   "source": [
    "### Exercise\n",
    "\n",
    "- what happens if you take out the semicolon at the end of the plot(); command?\n",
    "- just try it!\n",
    "- what is that **array** command doing in there?  (It has something to do with telling the computer that the list is a special data structure as a collection of numbers, that you can takes the squares of.)"
   ]
  },
  {
   "cell_type": "markdown",
   "metadata": {},
   "source": [
    "## More math\n",
    "\n",
    "Maybe you like math (I do). NumPy let's us use the usual math functions we learn in school, like sine, cosine, tangents, etc, and matplotlib let's use plot them.\n",
    "\n",
    "We use the linspace() command to get a list (array) of numbers, linearly spaced between two endpoints. We can then apply a function like sine to it, and plot. \n",
    "\n",
    "Here is an example:"
   ]
  },
  {
   "cell_type": "code",
   "execution_count": null,
   "metadata": {},
   "outputs": [],
   "source": [
    "x = linspace(-pi,pi)\n",
    "y = sin(x)\n",
    "plot(x,y);"
   ]
  },
  {
   "cell_type": "markdown",
   "metadata": {},
   "source": [
    "### Exercise\n",
    "- can you modify the code about to plot the cosine function? The tangent function? Other functions?\n",
    "- can you add two functions and plot them?\n",
    "- x and y are lists of numbers. How long are these lists? Are they the same length? How could you make a longer or short list?\n",
    "- learn more about linspace() [https://docs.scipy.org/doc/numpy/reference/generated/numpy.linspace.html](https://docs.scipy.org/doc/numpy/reference/generated/numpy.linspace.html)"
   ]
  },
  {
   "cell_type": "markdown",
   "metadata": {},
   "source": [
    "## Fun with random numbers\n",
    "\n",
    "With Python, we can explore randomness, which is a concept some students struggle with.\n",
    "\n",
    "Python can create random numbers, with various distributions. Here are some plots of collections of random numbers, from both a uniform distribution, and a normal distribution (bell curve)."
   ]
  },
  {
   "cell_type": "code",
   "execution_count": null,
   "metadata": {},
   "outputs": [],
   "source": [
    "y= random.uniform(size=500)\n",
    "plot(y,'.');"
   ]
  },
  {
   "cell_type": "code",
   "execution_count": null,
   "metadata": {},
   "outputs": [],
   "source": [
    "y= random.normal(size=500)\n",
    "plot(y,'.');"
   ]
  },
  {
   "cell_type": "markdown",
   "metadata": {},
   "source": [
    "Notice in the uniform distribution, the y values are spread between 0 and 1, with no prefence to any particular range.\n",
    "\n",
    "In the normal distributions, the y values are clusters around zero. But the range has a few values near +3, some near -3."
   ]
  },
  {
   "cell_type": "markdown",
   "metadata": {},
   "source": [
    "## Histograms\n",
    "\n",
    "A histogram will group the random numbers into bins. \n",
    "\n",
    "Here, in the uniform distribution, the bins take values of 0 to 1, and the different bins hold roughly the same number of points (about 500 each)."
   ]
  },
  {
   "cell_type": "code",
   "execution_count": null,
   "metadata": {},
   "outputs": [],
   "source": [
    "y= random.uniform(size=10000)\n",
    "hist(y,bins=20);"
   ]
  },
  {
   "cell_type": "markdown",
   "metadata": {},
   "source": [
    "In the normal distribution, the histrograms shows the values cluster near the bin=0 value."
   ]
  },
  {
   "cell_type": "code",
   "execution_count": null,
   "metadata": {},
   "outputs": [],
   "source": [
    "y= random.normal(size=10000)\n",
    "hist(y,bins=20);"
   ]
  },
  {
   "cell_type": "markdown",
   "metadata": {},
   "source": [
    "## Application of random numbers\n",
    "\n",
    "Let's use random numbers to estimate pi. We could do this throwing darts at a dartboard, but instead we will use the computer to do the work.\n",
    "\n",
    "Imagine throwing darts at the circular dartboard shown here. \n",
    "\n",
    "![menu](images/CircSqr.png)\n",
    "\n",
    "If the circle has a radius of one, its area is $\\pi$, while the area of the surronding square is 4. If we throw darts at the square, at random, we expect $\\pi/4$ of them to hit inside the circle. \n",
    "\n",
    "To test if a dart at point $(x,y)$ is inside the circle, we check whether $$x^2 + y^2 <1.$$\n",
    "That is, the distance to the centre should be less than one. \n",
    "\n",
    "We turn this into an algorithm:\n",
    "- pick two random numbers x,y, in the range -1,1\n",
    "- check if x,y is distance one or less from the origin\n",
    "- if yes, add one to the count\n",
    "- do this for many random numbers (like 100,000)\n",
    "- the ratio of count/100,000 will be an estimate of pi/4\n",
    "- multiply by 4 to get the estimate of pi\n",
    "\n"
   ]
  },
  {
   "cell_type": "code",
   "execution_count": null,
   "metadata": {},
   "outputs": [],
   "source": [
    "darts = 100000  # the number of darts\n",
    "x = random.uniform(low = -1, high = 1, size=darts)\n",
    "y = random.uniform(low = -1, high = 1, size=darts)\n",
    "count = 0\n",
    "for k in range(darts):\n",
    "    if x[k]**2 + y[k]**2 < 1:\n",
    "        count += 1\n",
    "print('Our estimate of pi is',4*count/darts)"
   ]
  },
  {
   "cell_type": "markdown",
   "metadata": {},
   "source": [
    "## Going further with Python and Jupyter\n",
    "\n",
    "There are many online resources for Python. \n",
    "\n",
    "Click here for another Python Tutorial from Callysto:\n",
    "[![Binder](https://mybinder.org/badge_logo.svg)](https://mybinder.org/v2/gh/callysto/getting-started/master?filepath=tutorials%2FJupyterTestdrive-Python.ipynb)\n",
    "\n",
    "Click here for a list of Python tutorials explaining how to include sound, video, and more in your Python and Jupyter notebooks. \n",
    "[![Binder](https://mybinder.org/badge_logo.svg)](https://mybinder.org/v2/gh/mlamoureux/CallystoShorts/master?filepath=master.ipynb)\n",
    "\n",
    "Clear here to see a short cheat sheet on using Python, as well as the Markdown typesetting language:\n",
    "[Callysto Cheat Sheet](https://callysto.ca/wp-content/uploads/2018/12/Callysto-Cheatsheet_12.19.18_web.pdf)\n",
    "\n",
    "Finally, learn more about the Jupyter notebooks available as learning modules from Callyso: [Callysto.ca](https://callysto.ca/learning_modules/)"
   ]
  },
  {
   "cell_type": "markdown",
   "metadata": {},
   "source": [
    "![alt text](https://github.com/callysto/callysto-sample-notebooks/blob/master/notebooks/images/Callysto_Notebook-Banners_Bottom_06.06.18.jpg?raw=true)"
   ]
  },
  {
   "cell_type": "code",
   "execution_count": null,
   "metadata": {},
   "outputs": [],
   "source": [
    "1:5"
   ]
  },
  {
   "cell_type": "code",
   "execution_count": null,
   "metadata": {},
   "outputs": [],
   "source": []
  }
 ],
 "metadata": {
  "kernelspec": {
   "display_name": "Python 3",
   "language": "python",
   "name": "python3"
  },
  "language_info": {
   "codemirror_mode": {
    "name": "ipython",
    "version": 3
   },
   "file_extension": ".py",
   "mimetype": "text/x-python",
   "name": "python",
   "nbconvert_exporter": "python",
   "pygments_lexer": "ipython3",
   "version": "3.7.2"
  }
 },
 "nbformat": 4,
 "nbformat_minor": 2
}
